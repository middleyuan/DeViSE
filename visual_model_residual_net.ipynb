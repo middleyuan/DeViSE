{
 "cells": [
  {
   "cell_type": "code",
   "execution_count": null,
   "metadata": {},
   "outputs": [],
   "source": [
    "import tflearn\n",
    "from tflearn.data_utils import shuffle, to_categorical\n",
    "from tflearn.layers.core import input_data, dropout, fully_connected\n",
    "from tflearn.layers.conv import conv_2d, max_pool_2d\n",
    "from tflearn.layers.estimator import regression\n",
    "from tflearn.data_preprocessing import ImagePreprocessing\n",
    "from tflearn.data_augmentation import ImageAugmentation\n",
    "import numpy as np\n",
    "import tensorflow as tf\n",
    "# import data\n",
    "(x_train, y_train), (x_test, y_test) = tf.keras.datasets.cifar100.load_data(label_mode='fine')\n",
    "\n",
    "# data setting\n",
    "y_train = y_train.reshape(50000,)\n",
    "y_test = y_test.reshape(10000,)\n",
    "train_data = np.asarray(x_train, dtype=np.float32)\n",
    "train_labels =np.asarray(y_train, dtype=np.float32)\n",
    "eval_data = np.asarray(x_test, dtype=np.float32)\n",
    "eval_labels = np.asarray(y_test, dtype=np.float32)\n",
    "# one hot encoding\n",
    "y_train = tflearn.data_utils.to_categorical(y_train, 100)\n",
    "y_test = tflearn.data_utils.to_categorical(y_test, 100)\n",
    "# image argumentation\n",
    "image_preprocessing = tflearn.ImagePreprocessing()\n",
    "image_preprocessing.add_featurewise_zero_center(per_channel=True)\n",
    "image_argumentation = tflearn.ImageAugmentation()\n",
    "image_argumentation.add_random_flip_leftright()\n",
    "image_argumentation.add_random_crop([32, 32], padding=4)\n",
    "# build 56 layers residual layers\n",
    "n = 9\n",
    "net = tflearn.input_data(shape=[None, 32, 32, 3],\n",
    "                          data_preprocessing=image_preprocessing,\n",
    "                          data_augmentation=image_argumentation)\n",
    "net = tflearn.conv_2d(net, 16, 3, regularizer='L2', weight_decay=0.0001)\n",
    "net = tflearn.residual_block(net, n, 16)\n",
    "net = tflearn.residual_block(net, 1, 32, downsample=True)\n",
    "net = tflearn.residual_block(net, n-1, 32)\n",
    "net = tflearn.residual_block(net, 1, 64, downsample=True)\n",
    "net = tflearn.residual_block(net, n-1, 64)\n",
    "net = tflearn.batch_normalization(net)\n",
    "net = tflearn.activation(net, 'elu')\n",
    "image_embedding = tflearn.global_avg_pool(net)\n",
    "net = tflearn.fully_connected(image_embedding, 100, activation='softmax')\n",
    "optimizer = tflearn.Momentum(0.1, lr_decay=0.1, decay_step=32000, staircase=True)\n",
    "net = tflearn.regression(net, optimizer=optimizer,\n",
    "                         loss='categorical_crossentropy')\n",
    "\n",
    "# define model\n",
    "model = tflearn.DNN(net, checkpoint_path='model_resnet_cifar100',\n",
    "                    max_checkpoints=10, tensorboard_verbose=3)\n",
    "# model training\n",
    "model.fit(train_data, y_train, n_epoch=100, validation_set=(eval_data, y_test),\n",
    "          snapshot_epoch=False, snap,kiishot_step=500,\n",
    "          show_metric=True, batch_size=128, shuffle=True,\n",
    "          run_id='resnet_cifar100')\n",
    "# save model\n",
    "model.save('resnet_cifar100_model.tflearn')"
   ]
  },
  {
   "cell_type": "code",
   "execution_count": null,
   "metadata": {},
   "outputs": [],
   "source": [
    "# reload pretrain model\n",
    "model.load('resnet_cifar100_model.tflearn')\n",
    "# Define model with removing softmax layer\n",
    "embedding_out = tflearn.DNN(image_embedding, session=model.session)"
   ]
  },
  {
   "cell_type": "code",
   "execution_count": null,
   "metadata": {},
   "outputs": [],
   "source": [
    "# retrieve image vector\n",
    "y_embedding_test = np.zeros((10000,1,64))\n",
    "y_embedding_train = np.zeros((50000,1,64))\n",
    "for i in range(10000):\n",
    "   a = eval_data[i].reshape(1,32,32,3)\n",
    "   y_embedding_test[i] = embedding_out.predict(a)\n",
    "   if i%1000==0:\n",
    "      print(i)\n",
    "for i in range(50000):\n",
    "   a = train_data[i].reshape(1,32,32,3)\n",
    "   y_embedding_train[i] = embedding_out.predict(a)\n",
    "   if i%1000==0:\n",
    "      print(i)"
   ]
  },
  {
   "cell_type": "code",
   "execution_count": null,
   "metadata": {},
   "outputs": [],
   "source": [
    "# save image embedding as .npy file\n",
    "y_embedding_train_output = np.reshape(y_embedding_train,(50000*1*64))\n",
    "np.save('y_embedding_train.npy',y_embedding_train_output )\n",
    "y_embedding_test_output = np.reshape(y_embedding_test,(10000*1*64))\n",
    "print(y_embedding_test_output.shape)\n",
    "np.save('y_embedding_test.npy',y_embedding_test_output )"
   ]
  }
 ],
 "metadata": {
  "kernelspec": {
   "display_name": "Python 3",
   "language": "python",
   "name": "python3"
  },
  "language_info": {
   "codemirror_mode": {
    "name": "ipython",
    "version": 3
   },
   "file_extension": ".py",
   "mimetype": "text/x-python",
   "name": "python",
   "nbconvert_exporter": "python",
   "pygments_lexer": "ipython3",
   "version": "3.6.2"
  }
 },
 "nbformat": 4,
 "nbformat_minor": 2
}
